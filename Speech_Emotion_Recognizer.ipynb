{
  "nbformat": 4,
  "nbformat_minor": 0,
  "metadata": {
    "colab": {
      "name": "Speech-Emotion-Recognizer.ipynb",
      "provenance": [],
      "include_colab_link": true
    },
    "kernelspec": {
      "name": "python3",
      "display_name": "Python 3"
    }
  },
  "cells": [
    {
      "cell_type": "markdown",
      "metadata": {
        "id": "view-in-github",
        "colab_type": "text"
      },
      "source": [
        "<a href=\"https://colab.research.google.com/github/abhi10010/fastai-v3/blob/master/Speech_Emotion_Recognizer.ipynb\" target=\"_parent\"><img src=\"https://colab.research.google.com/assets/colab-badge.svg\" alt=\"Open In Colab\"/></a>"
      ]
    },
    {
      "cell_type": "code",
      "metadata": {
        "id": "W4gxBXXfjRGT",
        "colab_type": "code",
        "colab": {
          "base_uri": "https://localhost:8080/",
          "height": 68
        },
        "outputId": "b111a2a0-adfe-4027-e45d-25f09776ef4a"
      },
      "source": [
        "pip install soundfile"
      ],
      "execution_count": 181,
      "outputs": [
        {
          "output_type": "stream",
          "text": [
            "Requirement already satisfied: soundfile in /usr/local/lib/python3.6/dist-packages (0.10.3.post1)\n",
            "Requirement already satisfied: cffi>=1.0 in /usr/local/lib/python3.6/dist-packages (from soundfile) (1.14.0)\n",
            "Requirement already satisfied: pycparser in /usr/local/lib/python3.6/dist-packages (from cffi>=1.0->soundfile) (2.20)\n"
          ],
          "name": "stdout"
        }
      ]
    },
    {
      "cell_type": "code",
      "metadata": {
        "id": "PZz8MHG1iySd",
        "colab_type": "code",
        "colab": {}
      },
      "source": [
        "import librosa\n",
        "import soundfile\n",
        "import os, glob, pickle\n",
        "import numpy as np\n",
        "from sklearn.model_selection import train_test_split\n",
        "from sklearn.neural_network import MLPClassifier\n",
        "from sklearn.metrics import accuracy_score"
      ],
      "execution_count": 182,
      "outputs": []
    },
    {
      "cell_type": "code",
      "metadata": {
        "id": "13jTX3Cujp8w",
        "colab_type": "code",
        "colab": {}
      },
      "source": [
        "def extract_feature(file_name, mfcc, chroma, mel):\n",
        "  with soundfile.SoundFile(file_name) as sound_file:\n",
        "    X = sound_file.read(dtype = \"float32\")\n",
        "    sample_rate = sound_file.samplerate\n",
        "    if chroma:\n",
        "      stft = np.abs(librosa.stft(X))\n",
        "    result = np.array([])\n",
        "    \n",
        "    if mfcc:\n",
        "      mfccs = np.mean(librosa.feature.mfcc(y = X, sr = sample_rate, n_mfcc = 40).T, axis = 0)\n",
        "      result = np.hstack((result, mfccs))\n",
        "\n",
        "    if chroma:\n",
        "      chroma = np.mean(librosa.feature.chroma_stft(S = stft, sr = sample_rate).T, axis = 0)\n",
        "      result = np.hstack((result, chroma))\n",
        "    \n",
        "    if mel:\n",
        "      mel = np.mean(librosa.feature.melspectrogram(X, sr = sample_rate).T, axis = 0)\n",
        "      result = np.hstack((result, mel))\n",
        "  return result"
      ],
      "execution_count": 183,
      "outputs": []
    },
    {
      "cell_type": "code",
      "metadata": {
        "id": "kw7lHtPEmISi",
        "colab_type": "code",
        "colab": {}
      },
      "source": [
        "emotions = {\n",
        "    '01': 'Neutral',\n",
        "    '02': 'Calm',\n",
        "    '03': 'Happy',\n",
        "    '04': 'Sad',\n",
        "    '05': 'Angry',\n",
        "    '06': 'Fearful',\n",
        "    '07': 'Disgust',\n",
        "    '08': 'Surprise'\n",
        "}\n",
        "observed_emotions = ['Calm', 'Happy', 'Fearful', 'Angry']"
      ],
      "execution_count": 184,
      "outputs": []
    },
    {
      "cell_type": "code",
      "metadata": {
        "id": "xyVvWCRyn6IX",
        "colab_type": "code",
        "colab": {
          "base_uri": "https://localhost:8080/",
          "height": 34
        },
        "outputId": "dca19f01-aa4b-4705-b56e-703856146298"
      },
      "source": [
        "from google.colab import drive\n",
        "drive.mount('/content/gdrive')"
      ],
      "execution_count": 185,
      "outputs": [
        {
          "output_type": "stream",
          "text": [
            "Drive already mounted at /content/gdrive; to attempt to forcibly remount, call drive.mount(\"/content/gdrive\", force_remount=True).\n"
          ],
          "name": "stdout"
        }
      ]
    },
    {
      "cell_type": "code",
      "metadata": {
        "id": "Ow7uI6sqoDjN",
        "colab_type": "code",
        "colab": {
          "base_uri": "https://localhost:8080/",
          "height": 34
        },
        "outputId": "edc4bb51-dc78-4df3-d271-9f5bab2354eb"
      },
      "source": [
        "cd /content/gdrive/My Drive/"
      ],
      "execution_count": 186,
      "outputs": [
        {
          "output_type": "stream",
          "text": [
            "/content/gdrive/My Drive\n"
          ],
          "name": "stdout"
        }
      ]
    },
    {
      "cell_type": "code",
      "metadata": {
        "id": "vU9r4go4oLun",
        "colab_type": "code",
        "colab": {
          "base_uri": "https://localhost:8080/",
          "height": 34
        },
        "outputId": "583ec30b-b6d1-4697-a568-4d2dd7830f02"
      },
      "source": [
        "cd 'Colab Notebooks'/"
      ],
      "execution_count": 187,
      "outputs": [
        {
          "output_type": "stream",
          "text": [
            "/content/gdrive/My Drive/Colab Notebooks\n"
          ],
          "name": "stdout"
        }
      ]
    },
    {
      "cell_type": "code",
      "metadata": {
        "id": "MIl2UWtWoVAm",
        "colab_type": "code",
        "colab": {}
      },
      "source": [
        "import glob\n",
        "def load_data(test_size = 0.2):\n",
        "  x, y = [], []\n",
        "  for file in glob.glob(\"Speech-Emotion-Dataset/Actor_*/*.wav\"):\n",
        "    file_name = os.path.basename(file)\n",
        "    emotion = emotions[file_name.split('-')[2]]\n",
        "    if emotion not in observed_emotions:\n",
        "      continue\n",
        "    feature = extract_feature(file, mfcc = True, chroma = True, mel = True)\n",
        "    x.append(feature)\n",
        "    y.append(emotion)\n",
        "    np.array(x)\n",
        "  return train_test_split(np.array(x), y, test_size = test_size, random_state = 1)"
      ],
      "execution_count": 188,
      "outputs": []
    },
    {
      "cell_type": "code",
      "metadata": {
        "id": "rOdYzrWDqdHw",
        "colab_type": "code",
        "colab": {}
      },
      "source": [
        "x_train, x_test, y_train, y_test = load_data()"
      ],
      "execution_count": 189,
      "outputs": []
    },
    {
      "cell_type": "code",
      "metadata": {
        "id": "4sGmnGM6qoYK",
        "colab_type": "code",
        "colab": {
          "base_uri": "https://localhost:8080/",
          "height": 34
        },
        "outputId": "306ed32d-76f7-4144-8ef2-37add1b56c55"
      },
      "source": [
        "print((x_train.shape[0], x_test.shape[0]))"
      ],
      "execution_count": 190,
      "outputs": [
        {
          "output_type": "stream",
          "text": [
            "(614, 154)\n"
          ],
          "name": "stdout"
        }
      ]
    },
    {
      "cell_type": "code",
      "metadata": {
        "id": "e7HzBeX7xGYE",
        "colab_type": "code",
        "colab": {
          "base_uri": "https://localhost:8080/",
          "height": 34
        },
        "outputId": "d965f8df-00f4-4063-da66-37f43bd0b7e6"
      },
      "source": [
        "print(f'Features extracted: {x_train.shape[1]}')"
      ],
      "execution_count": 191,
      "outputs": [
        {
          "output_type": "stream",
          "text": [
            "Features extracted: 180\n"
          ],
          "name": "stdout"
        }
      ]
    },
    {
      "cell_type": "code",
      "metadata": {
        "id": "Vxz5pmoDxQpl",
        "colab_type": "code",
        "colab": {}
      },
      "source": [
        "model = MLPClassifier(alpha = 0.01, \n",
        "                      batch_size = 256, epsilon = 1e-08,\n",
        "                      hidden_layer_sizes = (300,), learning_rate = 'adaptive',\n",
        "                      max_iter = 500)"
      ],
      "execution_count": 192,
      "outputs": []
    },
    {
      "cell_type": "code",
      "metadata": {
        "id": "DRRo5sXgxyRG",
        "colab_type": "code",
        "colab": {
          "base_uri": "https://localhost:8080/",
          "height": 153
        },
        "outputId": "8dd34d45-1cee-433a-dfda-aeb1852acecd"
      },
      "source": [
        "model.fit(x_train, y_train)"
      ],
      "execution_count": 193,
      "outputs": [
        {
          "output_type": "execute_result",
          "data": {
            "text/plain": [
              "MLPClassifier(activation='relu', alpha=0.01, batch_size=256, beta_1=0.9,\n",
              "              beta_2=0.999, early_stopping=False, epsilon=1e-08,\n",
              "              hidden_layer_sizes=(300,), learning_rate='adaptive',\n",
              "              learning_rate_init=0.001, max_fun=15000, max_iter=500,\n",
              "              momentum=0.9, n_iter_no_change=10, nesterovs_momentum=True,\n",
              "              power_t=0.5, random_state=None, shuffle=True, solver='adam',\n",
              "              tol=0.0001, validation_fraction=0.1, verbose=False,\n",
              "              warm_start=False)"
            ]
          },
          "metadata": {
            "tags": []
          },
          "execution_count": 193
        }
      ]
    },
    {
      "cell_type": "code",
      "metadata": {
        "id": "7WvqISbQx4W2",
        "colab_type": "code",
        "colab": {}
      },
      "source": [
        "y_pred = model.predict(x_test)"
      ],
      "execution_count": 194,
      "outputs": []
    },
    {
      "cell_type": "code",
      "metadata": {
        "id": "QdwyhL9px9AI",
        "colab_type": "code",
        "colab": {
          "base_uri": "https://localhost:8080/",
          "height": 34
        },
        "outputId": "502cdad8-cff0-44c2-f6ee-18eced64e2b7"
      },
      "source": [
        "accuracy = accuracy_score(y_true = y_test, y_pred = y_pred)\n",
        "print('Accuracy: {:.2f}%'.format(accuracy*100))"
      ],
      "execution_count": 195,
      "outputs": [
        {
          "output_type": "stream",
          "text": [
            "Accuracy: 82.47%\n"
          ],
          "name": "stdout"
        }
      ]
    },
    {
      "cell_type": "code",
      "metadata": {
        "id": "tYwhi2OwygQ3",
        "colab_type": "code",
        "colab": {}
      },
      "source": [
        ""
      ],
      "execution_count": 195,
      "outputs": []
    }
  ]
}